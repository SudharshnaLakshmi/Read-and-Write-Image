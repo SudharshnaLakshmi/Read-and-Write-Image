{
 "cells": [
  {
   "cell_type": "code",
   "execution_count": 27,
   "id": "be9bbf9f",
   "metadata": {},
   "outputs": [
    {
     "data": {
      "text/plain": [
       "-1"
      ]
     },
     "execution_count": 27,
     "metadata": {},
     "output_type": "execute_result"
    }
   ],
   "source": [
    "#To Read,display the image\n",
    "import cv2\n",
    "A=cv2.imread(\"img.jpg\",1)\n",
    "cv2.imshow(\"212221230110\",A)\n",
    "cv2.waitKey(0)"
   ]
  },
  {
   "cell_type": "code",
   "execution_count": 28,
   "id": "3525f9e5",
   "metadata": {},
   "outputs": [
    {
     "data": {
      "text/plain": [
       "-1"
      ]
     },
     "execution_count": 28,
     "metadata": {},
     "output_type": "execute_result"
    }
   ],
   "source": [
    "#To write the image\n",
    "import cv2\n",
    "A=cv2.imread(\"img.jpg\",1)\n",
    "cv2.imwrite(\"img.jpg\",A)\n",
    "cv2.imshow(\"212221230110\",A)\n",
    "cv2.waitKey(0)"
   ]
  },
  {
   "cell_type": "code",
   "execution_count": 29,
   "id": "26227d0f",
   "metadata": {},
   "outputs": [
    {
     "name": "stdout",
     "output_type": "stream",
     "text": [
      "(472, 474, 3)\n"
     ]
    }
   ],
   "source": [
    "#Find the shape of the Image\n",
    "import cv2\n",
    "A= cv2.imread('img.jpg',1)\n",
    "print(A.shape)"
   ]
  },
  {
   "cell_type": "code",
   "execution_count": 30,
   "id": "cf9f18f1",
   "metadata": {},
   "outputs": [
    {
     "data": {
      "text/plain": [
       "-1"
      ]
     },
     "execution_count": 30,
     "metadata": {},
     "output_type": "execute_result"
    }
   ],
   "source": [
    "#To access rows and columns\n",
    "import random\n",
    "import cv2\n",
    "A = cv2.imread('img.jpg',1)\n",
    "for i in range(100):\n",
    "    for j in range(A.shape[1]):\n",
    "        A[i][j] = [random.randint(0,255),random.randint(0,255),random.randint(0,255)]\n",
    "cv2.imshow('212221230110',A)\n",
    "cv2.waitKey(0)"
   ]
  }
 ],
 "metadata": {
  "kernelspec": {
   "display_name": "Python 3",
   "language": "python",
   "name": "python3"
  },
  "language_info": {
   "codemirror_mode": {
    "name": "ipython",
    "version": 3
   },
   "file_extension": ".py",
   "mimetype": "text/x-python",
   "name": "python",
   "nbconvert_exporter": "python",
   "pygments_lexer": "ipython3",
   "version": "3.8.8"
  }
 },
 "nbformat": 4,
 "nbformat_minor": 5
}
